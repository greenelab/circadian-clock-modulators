{
 "nbformat": 4,
 "nbformat_minor": 2,
 "metadata": {
  "language_info": {
   "name": "python",
   "codemirror_mode": {
    "name": "ipython",
    "version": 3
   },
   "version": "3.6.10-final"
  },
  "orig_nbformat": 2,
  "file_extension": ".py",
  "mimetype": "text/x-python",
  "name": "python",
  "npconvert_exporter": "python",
  "pygments_lexer": "ipython3",
  "version": 3,
  "kernelspec": {
   "name": "python3",
   "display_name": "Python 3"
  }
 },
 "cells": [
  {
   "cell_type": "markdown",
   "metadata": {},
   "source": [
    "# Read raw screen data from spreadsheets and reformat"
   ]
  },
  {
   "cell_type": "code",
   "execution_count": 1,
   "metadata": {},
   "outputs": [
    {
     "output_type": "execute_result",
     "data": {
      "text/plain": "'1.0.3'"
     },
     "metadata": {},
     "execution_count": 1
    }
   ],
   "source": [
    "import pandas\n",
    "pandas.__version__"
   ]
  },
  {
   "cell_type": "markdown",
   "metadata": {},
   "source": [
    "## Read FDA compounds\n",
    "\n",
    "> The SCREENWELL FDA-approved drug library V2 containing 741\n",
    "compounds was purchased from Enzo Life Sciences (Hayashi Kasei\n",
    "Co., Ltd.), and the International Drug Collection (IDC) containing 311\n",
    "compounds was purchased from MicroSource Discovery Systems, Inc.\n",
    "(Namiki Shoji Co., Ltd.)."
   ]
  },
  {
   "cell_type": "code",
   "execution_count": 2,
   "metadata": {},
   "outputs": [],
   "source": [
    "def read_fda_spreadsheet(concentration):\n",
    "    concentration_to_cols = {\"1 uM\": \"B:G\", \"10 uM\": \"J:O\"}\n",
    "    path = \"data/tamai-screen/FDA1_FDA2_Period_24-120.xlsx\"\n",
    "    renamer = {\n",
    "        f\"{concentration} AVG\": \"Period After\",\n",
    "        \"HITS/non-HITS\": \"compound_name\"\n",
    "    }\n",
    "    df = (\n",
    "        pandas.read_excel(path,\n",
    "            sheet_name=\"FDA_1uM_10uM_DRUGS_GRAPHS\",\n",
    "            usecols=f\"{concentration_to_cols[concentration]},T\",\n",
    "            mangle_dupe_cols=True,\n",
    "        )\n",
    "        .rename(columns=renamer)\n",
    "        .assign(concentration = concentration)\n",
    "    )\n",
    "    # undo mangle_dupe_cols=True (remove \".1\" suffix) \n",
    "    df.columns = df.columns.map(lambda x: x[:-2] if x.endswith(\".1\") else x)\n",
    "    df.dropna(subset=[\"96-well\"], inplace=True)\n",
    "    return df\n",
    ""
   ]
  },
  {
   "cell_type": "code",
   "execution_count": 3,
   "metadata": {},
   "outputs": [
    {
     "output_type": "execute_result",
     "data": {
      "text/plain": "     96-well  Plate 384-well  Period  Period After  Period Change  \\\n0      1-A02      1       A4    21.5     21.633333       0.029167   \n3      1-A03      1       A7    21.7     21.666667       0.062500   \n6      1-A04      1      A10    21.6     21.700000       0.095833   \n9      1-A05      1      A13    21.4     21.433333      -0.170833   \n12     1-A06      1      A16    21.5     21.600000      -0.004167   \n...      ...    ...      ...     ...           ...            ...   \n2445  11-B06      7      O13    22.1     22.133333       0.589583   \n2448  10-H10      7       P4    21.5     21.533333      -0.010417   \n2451  10-H11      7       P7    21.6     21.600000       0.056250   \n2454  11-A09      7      P10    21.3     21.433333      -0.110417   \n2457  11-B07      7      P13    21.2     21.366667      -0.177083   \n\n                  compound_name concentration compound_set  \n0               Clindamycin·HCl          1 uM          fda  \n3                     Felbamate          1 uM          fda  \n6                Cyclosporine A          1 uM          fda  \n9                 Donepezil·HCl          1 uM          fda  \n12               Lincomycin·HCl          1 uM          fda  \n...                         ...           ...          ...  \n2445                   Zaleplon         10 uM          fda  \n2448                      Blank         10 uM          fda  \n2451  Trientine Dihydrochloride         10 uM          fda  \n2454               Valproate·Na         10 uM          fda  \n2457                  Zanamivir         10 uM          fda  \n\n[1634 rows x 9 columns]",
      "text/html": "<div>\n<style scoped>\n    .dataframe tbody tr th:only-of-type {\n        vertical-align: middle;\n    }\n\n    .dataframe tbody tr th {\n        vertical-align: top;\n    }\n\n    .dataframe thead th {\n        text-align: right;\n    }\n</style>\n<table border=\"1\" class=\"dataframe\">\n  <thead>\n    <tr style=\"text-align: right;\">\n      <th></th>\n      <th>96-well</th>\n      <th>Plate</th>\n      <th>384-well</th>\n      <th>Period</th>\n      <th>Period After</th>\n      <th>Period Change</th>\n      <th>compound_name</th>\n      <th>concentration</th>\n      <th>compound_set</th>\n    </tr>\n  </thead>\n  <tbody>\n    <tr>\n      <th>0</th>\n      <td>1-A02</td>\n      <td>1</td>\n      <td>A4</td>\n      <td>21.5</td>\n      <td>21.633333</td>\n      <td>0.029167</td>\n      <td>Clindamycin·HCl</td>\n      <td>1 uM</td>\n      <td>fda</td>\n    </tr>\n    <tr>\n      <th>3</th>\n      <td>1-A03</td>\n      <td>1</td>\n      <td>A7</td>\n      <td>21.7</td>\n      <td>21.666667</td>\n      <td>0.062500</td>\n      <td>Felbamate</td>\n      <td>1 uM</td>\n      <td>fda</td>\n    </tr>\n    <tr>\n      <th>6</th>\n      <td>1-A04</td>\n      <td>1</td>\n      <td>A10</td>\n      <td>21.6</td>\n      <td>21.700000</td>\n      <td>0.095833</td>\n      <td>Cyclosporine A</td>\n      <td>1 uM</td>\n      <td>fda</td>\n    </tr>\n    <tr>\n      <th>9</th>\n      <td>1-A05</td>\n      <td>1</td>\n      <td>A13</td>\n      <td>21.4</td>\n      <td>21.433333</td>\n      <td>-0.170833</td>\n      <td>Donepezil·HCl</td>\n      <td>1 uM</td>\n      <td>fda</td>\n    </tr>\n    <tr>\n      <th>12</th>\n      <td>1-A06</td>\n      <td>1</td>\n      <td>A16</td>\n      <td>21.5</td>\n      <td>21.600000</td>\n      <td>-0.004167</td>\n      <td>Lincomycin·HCl</td>\n      <td>1 uM</td>\n      <td>fda</td>\n    </tr>\n    <tr>\n      <th>...</th>\n      <td>...</td>\n      <td>...</td>\n      <td>...</td>\n      <td>...</td>\n      <td>...</td>\n      <td>...</td>\n      <td>...</td>\n      <td>...</td>\n      <td>...</td>\n    </tr>\n    <tr>\n      <th>2445</th>\n      <td>11-B06</td>\n      <td>7</td>\n      <td>O13</td>\n      <td>22.1</td>\n      <td>22.133333</td>\n      <td>0.589583</td>\n      <td>Zaleplon</td>\n      <td>10 uM</td>\n      <td>fda</td>\n    </tr>\n    <tr>\n      <th>2448</th>\n      <td>10-H10</td>\n      <td>7</td>\n      <td>P4</td>\n      <td>21.5</td>\n      <td>21.533333</td>\n      <td>-0.010417</td>\n      <td>Blank</td>\n      <td>10 uM</td>\n      <td>fda</td>\n    </tr>\n    <tr>\n      <th>2451</th>\n      <td>10-H11</td>\n      <td>7</td>\n      <td>P7</td>\n      <td>21.6</td>\n      <td>21.600000</td>\n      <td>0.056250</td>\n      <td>Trientine Dihydrochloride</td>\n      <td>10 uM</td>\n      <td>fda</td>\n    </tr>\n    <tr>\n      <th>2454</th>\n      <td>11-A09</td>\n      <td>7</td>\n      <td>P10</td>\n      <td>21.3</td>\n      <td>21.433333</td>\n      <td>-0.110417</td>\n      <td>Valproate·Na</td>\n      <td>10 uM</td>\n      <td>fda</td>\n    </tr>\n    <tr>\n      <th>2457</th>\n      <td>11-B07</td>\n      <td>7</td>\n      <td>P13</td>\n      <td>21.2</td>\n      <td>21.366667</td>\n      <td>-0.177083</td>\n      <td>Zanamivir</td>\n      <td>10 uM</td>\n      <td>fda</td>\n    </tr>\n  </tbody>\n</table>\n<p>1634 rows × 9 columns</p>\n</div>"
     },
     "metadata": {},
     "execution_count": 3
    }
   ],
   "source": [
    "fda_df = pandas.concat([\n",
    "    read_fda_spreadsheet(\"1 uM\"),\n",
    "    read_fda_spreadsheet(\"10 uM\"),\n",
    "]).assign(compound_set=\"fda\")\n",
    "fda_df"
   ]
  },
  {
   "cell_type": "code",
   "execution_count": 4,
   "metadata": {},
   "outputs": [],
   "source": [
    "# path = \"data/tamai-screen/FDA1_FDA2_Period_24-120.xlsx\"\n",
    "# fda_1uM_df = (\n",
    "#     pandas.read_excel(path, sheet_name=\"FDA_1uM_10uM_DRUGS_GRAPHS\", usecols=\"B:G,T\")\n",
    "#     .dropna(subset=[\"96-well\"])\n",
    "# )\n",
    "# fda_1uM_df.head(2)"
   ]
  },
  {
   "cell_type": "code",
   "execution_count": null,
   "metadata": {},
   "outputs": [],
   "source": []
  }
 ]
}