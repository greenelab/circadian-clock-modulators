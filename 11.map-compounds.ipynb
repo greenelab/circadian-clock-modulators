{
 "nbformat": 4,
 "nbformat_minor": 2,
 "metadata": {
  "language_info": {
   "name": "python",
   "codemirror_mode": {
    "name": "ipython",
    "version": 3
   },
   "version": "3.6.10-final"
  },
  "orig_nbformat": 2,
  "file_extension": ".py",
  "mimetype": "text/x-python",
  "name": "python",
  "npconvert_exporter": "python",
  "pygments_lexer": "ipython3",
  "version": 3,
  "kernelspec": {
   "name": "python3",
   "display_name": "Python 3"
  }
 },
 "cells": [
  {
   "cell_type": "markdown",
   "metadata": {},
   "source": [
    "# Map IDC Compounds to DrugBank\n",
    "\n",
    "Uses https://mychem.info/\n",
    "\n",
    "[MicroSource International Drug Collection](http://www.msdiscovery.com/intdrug.html)\n",
    "\n",
    "Another option would be using [pubchem](https://pubchempy.readthedocs.io/en/latest/guide/substance.html#retrieving-substances) which seems to have the IDC identifiers deposited as `\"Pharmakon1600-00300607\"[CompleteSynonym]`."
   ]
  },
  {
   "cell_type": "code",
   "execution_count": 1,
   "metadata": {},
   "outputs": [],
   "source": [
    "import pandas\n",
    "import requests"
   ]
  },
  {
   "cell_type": "code",
   "execution_count": 2,
   "metadata": {},
   "outputs": [
    {
     "output_type": "execute_result",
     "data": {
      "text/plain": "   IDNUMBER      Plate POSITION            Name  structure    Formula  \\\n0   1506107  151126-01      A02  SULFACARBAMIDE        NaN  C7H9N3O3S   \n1    210369  151126-01      A03     GALLIC ACID        NaN     C7H6O5   \n\n   moecularl weight  saltdata                                 Medical Use  \\\n0         215.23208       NaN                               antibacterial   \n1         170.12287       NaN  antineoplastic, astringent, antibacterial    \n\n                                           Reference       CAS        Status  \\\n0           Antimicrob Agents Chemother 19:82 (1981)  547-44-4     synthetic   \n1  J Chem Soc 1961:1854; Agric Biol Chem 30:617 (...  149-91-7  insect galls   \n\n           etc  \n0     INN, BAN  \n1  INN, NF-VII  ",
      "text/html": "<div>\n<style scoped>\n    .dataframe tbody tr th:only-of-type {\n        vertical-align: middle;\n    }\n\n    .dataframe tbody tr th {\n        vertical-align: top;\n    }\n\n    .dataframe thead th {\n        text-align: right;\n    }\n</style>\n<table border=\"1\" class=\"dataframe\">\n  <thead>\n    <tr style=\"text-align: right;\">\n      <th></th>\n      <th>IDNUMBER</th>\n      <th>Plate</th>\n      <th>POSITION</th>\n      <th>Name</th>\n      <th>structure</th>\n      <th>Formula</th>\n      <th>moecularl weight</th>\n      <th>saltdata</th>\n      <th>Medical Use</th>\n      <th>Reference</th>\n      <th>CAS</th>\n      <th>Status</th>\n      <th>etc</th>\n    </tr>\n  </thead>\n  <tbody>\n    <tr>\n      <th>0</th>\n      <td>1506107</td>\n      <td>151126-01</td>\n      <td>A02</td>\n      <td>SULFACARBAMIDE</td>\n      <td>NaN</td>\n      <td>C7H9N3O3S</td>\n      <td>215.23208</td>\n      <td>NaN</td>\n      <td>antibacterial</td>\n      <td>Antimicrob Agents Chemother 19:82 (1981)</td>\n      <td>547-44-4</td>\n      <td>synthetic</td>\n      <td>INN, BAN</td>\n    </tr>\n    <tr>\n      <th>1</th>\n      <td>210369</td>\n      <td>151126-01</td>\n      <td>A03</td>\n      <td>GALLIC ACID</td>\n      <td>NaN</td>\n      <td>C7H6O5</td>\n      <td>170.12287</td>\n      <td>NaN</td>\n      <td>antineoplastic, astringent, antibacterial</td>\n      <td>J Chem Soc 1961:1854; Agric Biol Chem 30:617 (...</td>\n      <td>149-91-7</td>\n      <td>insect galls</td>\n      <td>INN, NF-VII</td>\n    </tr>\n  </tbody>\n</table>\n</div>"
     },
     "metadata": {},
     "execution_count": 2
    }
   ],
   "source": [
    "idc_df = pandas.read_excel(\n",
    "    io=\"data/tamai-screen/IDC_Period_24-120.xlsx\",\n",
    "    sheet_name=\"MicroSource Discovery社311品目\",\n",
    ")\n",
    "idc_df.head(2)\n",
    ""
   ]
  },
  {
   "cell_type": "code",
   "execution_count": 3,
   "metadata": {},
   "outputs": [],
   "source": [
    "def solr_escape(text):\n",
    "    \"\"\"\n",
    "    Escape reserved characters for pysolr queries.\n",
    "    https://lucene.apache.org/solr/guide/6_6/the-standard-query-parser.html#TheStandardQueryParser-EscapingSpecialCharacters\n",
    "    https://docs.mychem.info/en/latest/doc/chem_query_service.html#escaping-reserved-characters\n",
    "    \"\"\"\n",
    "    import re\n",
    "    reserved_chars = '+ - = && || > < ! ( ) { } [ ] ^ \" ~ * ? : \\ /'.split()\n",
    "    pattern = re.compile('|'.join(map(re.escape, reserved_chars)))\n",
    "    return pattern.sub(repl= lambda m: f\"\\\\{m.group()}\", string=text)\n",
    "\n",
    "\n",
    "def get_mychem_query(name):\n",
    "    \"\"\"\n",
    "    https://lucene.apache.org/solr/guide/6_6/the-standard-query-parser.html\n",
    "    \"\"\"\n",
    "    escaped_name = solr_escape(name)\n",
    "    search_fields = [\"drugbank.name\", \"drugbank.synonyms\"]\n",
    "    query = \" OR \".join(f'{field}:\"{escaped_name}\"' for field in search_fields)\n",
    "    query = f\"_exists_:drugbank AND ({query})\"\n",
    "    return query\n",
    "\n",
    "\n",
    "def query_mychem(name):\n",
    "    url = \"https://mychem.info/v1/query\"\n",
    "    params = dict(\n",
    "        q=get_mychem_query(name),\n",
    "        fields=\"drugbank.name,drugbank.id,drugbank.synonyms,drugbank.formula,drugbank.weight\",\n",
    "        size=1,\n",
    "    )\n",
    "    response = requests.get(url, params)\n",
    "    # solr doesn't have a whole target string match mode.\n",
    "    # For example, \"Gallic acid\" will match \"gallic acid bismuth basic salt\"\n",
    "    return response\n",
    "\n",
    ""
   ]
  },
  {
   "cell_type": "code",
   "execution_count": 4,
   "metadata": {},
   "outputs": [
    {
     "output_type": "execute_result",
     "data": {
      "text/plain": "0          SULFACARBAMIDE\n1             GALLIC ACID\n2                 KHELLIN\n3    DEQUALINIUM CHLORIDE\n4      HYDROXYTOLUIC ACID\nName: Name, dtype: object"
     },
     "metadata": {},
     "execution_count": 4
    }
   ],
   "source": [
    "idc_df.Name[:5]"
   ]
  },
  {
   "cell_type": "code",
   "execution_count": 5,
   "metadata": {},
   "outputs": [
    {
     "output_type": "execute_result",
     "data": {
      "text/plain": "                           _id     _score  query_compound  \\\n0  JAONZGLTYYUPCT-UHFFFAOYSA-K   8.772476     GALLIC ACID   \n1  GPTXWRGISTZRIO-UHFFFAOYSA-N  14.978941  CHLORQUINALDOL   \n\n       drugbank._license drugbank.formula drugbank.id       drugbank.name  \\\n0  http://bit.ly/2PSfZTD         C7H5BiO6     DB13909  Bismuth subgallate   \n1  http://bit.ly/2PSfZTD       C10H7Cl2NO     DB13306      Chlorquinaldol   \n\n                                   drugbank.synonyms  drugbank.weight.average  \\\n0  [basic bismuth 3,4,5-trihydroxybenzoate, basis...                  394.091   \n1  [2-methyl-5,7-dichloro-8-hydroxyquinoline, 5,7...                  228.070   \n\n   drugbank.weight.monoisotopic  \n0                    393.989010  \n1                    226.990469  ",
      "text/html": "<div>\n<style scoped>\n    .dataframe tbody tr th:only-of-type {\n        vertical-align: middle;\n    }\n\n    .dataframe tbody tr th {\n        vertical-align: top;\n    }\n\n    .dataframe thead th {\n        text-align: right;\n    }\n</style>\n<table border=\"1\" class=\"dataframe\">\n  <thead>\n    <tr style=\"text-align: right;\">\n      <th></th>\n      <th>_id</th>\n      <th>_score</th>\n      <th>query_compound</th>\n      <th>drugbank._license</th>\n      <th>drugbank.formula</th>\n      <th>drugbank.id</th>\n      <th>drugbank.name</th>\n      <th>drugbank.synonyms</th>\n      <th>drugbank.weight.average</th>\n      <th>drugbank.weight.monoisotopic</th>\n    </tr>\n  </thead>\n  <tbody>\n    <tr>\n      <th>0</th>\n      <td>JAONZGLTYYUPCT-UHFFFAOYSA-K</td>\n      <td>8.772476</td>\n      <td>GALLIC ACID</td>\n      <td>http://bit.ly/2PSfZTD</td>\n      <td>C7H5BiO6</td>\n      <td>DB13909</td>\n      <td>Bismuth subgallate</td>\n      <td>[basic bismuth 3,4,5-trihydroxybenzoate, basis...</td>\n      <td>394.091</td>\n      <td>393.989010</td>\n    </tr>\n    <tr>\n      <th>1</th>\n      <td>GPTXWRGISTZRIO-UHFFFAOYSA-N</td>\n      <td>14.978941</td>\n      <td>CHLORQUINALDOL</td>\n      <td>http://bit.ly/2PSfZTD</td>\n      <td>C10H7Cl2NO</td>\n      <td>DB13306</td>\n      <td>Chlorquinaldol</td>\n      <td>[2-methyl-5,7-dichloro-8-hydroxyquinoline, 5,7...</td>\n      <td>228.070</td>\n      <td>226.990469</td>\n    </tr>\n  </tbody>\n</table>\n</div>"
     },
     "metadata": {},
     "execution_count": 5
    }
   ],
   "source": [
    "rows = []\n",
    "for name in idc_df.Name:\n",
    "    response = query_mychem(name)\n",
    "    # print(response.url)\n",
    "    for hit in response.json()[\"hits\"]:\n",
    "        hit[\"query_compound\"] = name\n",
    "        rows.append(hit)\n",
    "query_df = pandas.json_normalize(rows)\n",
    "query_df.head(2)"
   ]
  },
  {
   "cell_type": "code",
   "execution_count": 6,
   "metadata": {},
   "outputs": [],
   "source": [
    "query_df = query_df.reindex(columns=[\"query_compound\", \"drugbank.id\", \"drugbank.name\", \"drugbank.formula\", \"drugbank.weight.average\"])"
   ]
  },
  {
   "cell_type": "code",
   "execution_count": 7,
   "metadata": {},
   "outputs": [
    {
     "output_type": "execute_result",
     "data": {
      "text/plain": "   idc_IDNUMBER        idc_Name idc_Formula  idc_moecularl weight  \\\n0        210369     GALLIC ACID      C7H6O5             170.12287   \n1        212151  CHLORQUINALDOL  C10H7Cl2NO             228.07939   \n2        300546       BERGAPTEN     C12H8O4             216.19516   \n\n   query_compound drugbank.id       drugbank.name drugbank.formula  \\\n0     GALLIC ACID     DB13909  Bismuth subgallate         C7H5BiO6   \n1  CHLORQUINALDOL     DB13306      Chlorquinaldol       C10H7Cl2NO   \n2       BERGAPTEN     DB12216           Bergapten          C12H8O4   \n\n   drugbank.weight.average  \n0                  394.091  \n1                  228.070  \n2                  216.192  ",
      "text/html": "<div>\n<style scoped>\n    .dataframe tbody tr th:only-of-type {\n        vertical-align: middle;\n    }\n\n    .dataframe tbody tr th {\n        vertical-align: top;\n    }\n\n    .dataframe thead th {\n        text-align: right;\n    }\n</style>\n<table border=\"1\" class=\"dataframe\">\n  <thead>\n    <tr style=\"text-align: right;\">\n      <th></th>\n      <th>idc_IDNUMBER</th>\n      <th>idc_Name</th>\n      <th>idc_Formula</th>\n      <th>idc_moecularl weight</th>\n      <th>query_compound</th>\n      <th>drugbank.id</th>\n      <th>drugbank.name</th>\n      <th>drugbank.formula</th>\n      <th>drugbank.weight.average</th>\n    </tr>\n  </thead>\n  <tbody>\n    <tr>\n      <th>0</th>\n      <td>210369</td>\n      <td>GALLIC ACID</td>\n      <td>C7H6O5</td>\n      <td>170.12287</td>\n      <td>GALLIC ACID</td>\n      <td>DB13909</td>\n      <td>Bismuth subgallate</td>\n      <td>C7H5BiO6</td>\n      <td>394.091</td>\n    </tr>\n    <tr>\n      <th>1</th>\n      <td>212151</td>\n      <td>CHLORQUINALDOL</td>\n      <td>C10H7Cl2NO</td>\n      <td>228.07939</td>\n      <td>CHLORQUINALDOL</td>\n      <td>DB13306</td>\n      <td>Chlorquinaldol</td>\n      <td>C10H7Cl2NO</td>\n      <td>228.070</td>\n    </tr>\n    <tr>\n      <th>2</th>\n      <td>300546</td>\n      <td>BERGAPTEN</td>\n      <td>C12H8O4</td>\n      <td>216.19516</td>\n      <td>BERGAPTEN</td>\n      <td>DB12216</td>\n      <td>Bergapten</td>\n      <td>C12H8O4</td>\n      <td>216.192</td>\n    </tr>\n  </tbody>\n</table>\n</div>"
     },
     "metadata": {},
     "execution_count": 7
    }
   ],
   "source": [
    "merged_df = (\n",
    "    idc_df\n",
    "    .reindex(columns=[\"IDNUMBER\", \"Name\", \"Formula\", \"moecularl weight\"])\n",
    "    .add_prefix(\"idc_\")\n",
    "    .merge(query_df, left_on=\"idc_Name\", right_on=\"query_compound\")\n",
    ")\n",
    "merged_df.head(3)"
   ]
  },
  {
   "cell_type": "code",
   "execution_count": 8,
   "metadata": {},
   "outputs": [],
   "source": [
    "merged_df.to_csv(\"data/compounds/idc-to-drugbank.tsv\", sep=\"\\t\", index=False)"
   ]
  },
  {
   "cell_type": "code",
   "execution_count": 11,
   "metadata": {},
   "outputs": [
    {
     "output_type": "execute_result",
     "data": {
      "text/plain": "    idc_IDNUMBER     idc_Name idc_Formula  idc_moecularl weight  \\\n0         210369  GALLIC ACID      C7H6O5             170.12287   \n11       1500621  AMINOPYRINE   C13H17N3O             231.29994   \n\n   query_compound drugbank.id       drugbank.name drugbank.formula  \\\n0     GALLIC ACID     DB13909  Bismuth subgallate         C7H5BiO6   \n11    AMINOPYRINE     DB01424      Aminophenazone        C13H17N3O   \n\n    drugbank.weight.average  \n0                  394.0910  \n11                 231.2936  ",
      "text/html": "<div>\n<style scoped>\n    .dataframe tbody tr th:only-of-type {\n        vertical-align: middle;\n    }\n\n    .dataframe tbody tr th {\n        vertical-align: top;\n    }\n\n    .dataframe thead th {\n        text-align: right;\n    }\n</style>\n<table border=\"1\" class=\"dataframe\">\n  <thead>\n    <tr style=\"text-align: right;\">\n      <th></th>\n      <th>idc_IDNUMBER</th>\n      <th>idc_Name</th>\n      <th>idc_Formula</th>\n      <th>idc_moecularl weight</th>\n      <th>query_compound</th>\n      <th>drugbank.id</th>\n      <th>drugbank.name</th>\n      <th>drugbank.formula</th>\n      <th>drugbank.weight.average</th>\n    </tr>\n  </thead>\n  <tbody>\n    <tr>\n      <th>0</th>\n      <td>210369</td>\n      <td>GALLIC ACID</td>\n      <td>C7H6O5</td>\n      <td>170.12287</td>\n      <td>GALLIC ACID</td>\n      <td>DB13909</td>\n      <td>Bismuth subgallate</td>\n      <td>C7H5BiO6</td>\n      <td>394.0910</td>\n    </tr>\n    <tr>\n      <th>11</th>\n      <td>1500621</td>\n      <td>AMINOPYRINE</td>\n      <td>C13H17N3O</td>\n      <td>231.29994</td>\n      <td>AMINOPYRINE</td>\n      <td>DB01424</td>\n      <td>Aminophenazone</td>\n      <td>C13H17N3O</td>\n      <td>231.2936</td>\n    </tr>\n  </tbody>\n</table>\n</div>"
     },
     "metadata": {},
     "execution_count": 11
    }
   ],
   "source": [
    "name_mismatch_df = merged_df[merged_df.idc_Name.str.lower() != merged_df[\"drugbank.name\"].str.lower()]\n",
    "name_mismatch_df.head(2)"
   ]
  },
  {
   "cell_type": "code",
   "execution_count": 13,
   "metadata": {},
   "outputs": [
    {
     "output_type": "execute_result",
     "data": {
      "text/plain": "     idc_IDNUMBER           idc_Name  idc_Formula  idc_moecularl weight  \\\n0          210369        GALLIC ACID       C7H6O5             170.12287   \n26        1501111  PROTOPORPHYRIN IX   C34H34N4O4             562.67448   \n32        1501173        ACETANILIDE       C8H9NO             135.16703   \n55        1506163   SELENOMETHIONINE   C5H11NO2Se             196.10892   \n84        1503921        CYPROTERONE   C22H27ClO3             374.91169   \n85        1503941      THIOCTIC ACID    C8H14O2S2             206.32758   \n100       1502248        GLUTATHIONE  C10H17N3O6S             307.32749   \n131       1701028          CORTISONE     C21H28O5             360.45431   \n138       1503973       2-THIOURACIL     C4H4N2OS             128.15328   \n\n        query_compound drugbank.id               drugbank.name  \\\n0          GALLIC ACID     DB13909          Bismuth subgallate   \n26   PROTOPORPHYRIN IX     DB02949  2-Acetyl-Protoporphyrin Ix   \n32         ACETANILIDE     DB01297                   Practolol   \n55    SELENOMETHIONINE     DB09400      Selenomethionine Se-75   \n84         CYPROTERONE     DB04839         Cyproterone acetate   \n85       THIOCTIC ACID     DB06253  Thioctic acid tromethamine   \n100        GLUTATHIONE     DB03310       Glutathione disulfide   \n131          CORTISONE     DB01380           Cortisone acetate   \n138       2-THIOURACIL     DB00550            Propylthiouracil   \n\n    drugbank.formula  drugbank.weight.average  \n0           C7H5BiO6                 394.0910  \n26      C34H34FeN4O5                 634.5030  \n32        C14H22N2O3                 266.3361  \n55        C5H11NO2Se                 192.0710  \n84        C24H29ClO4                 416.9380  \n85       C12H25NO5S2                 327.4500  \n100    C20H32N6O12S2                 612.6310  \n131         C23H30O6                 402.4807  \n138        C7H10N2OS                 170.2320  ",
      "text/html": "<div>\n<style scoped>\n    .dataframe tbody tr th:only-of-type {\n        vertical-align: middle;\n    }\n\n    .dataframe tbody tr th {\n        vertical-align: top;\n    }\n\n    .dataframe thead th {\n        text-align: right;\n    }\n</style>\n<table border=\"1\" class=\"dataframe\">\n  <thead>\n    <tr style=\"text-align: right;\">\n      <th></th>\n      <th>idc_IDNUMBER</th>\n      <th>idc_Name</th>\n      <th>idc_Formula</th>\n      <th>idc_moecularl weight</th>\n      <th>query_compound</th>\n      <th>drugbank.id</th>\n      <th>drugbank.name</th>\n      <th>drugbank.formula</th>\n      <th>drugbank.weight.average</th>\n    </tr>\n  </thead>\n  <tbody>\n    <tr>\n      <th>0</th>\n      <td>210369</td>\n      <td>GALLIC ACID</td>\n      <td>C7H6O5</td>\n      <td>170.12287</td>\n      <td>GALLIC ACID</td>\n      <td>DB13909</td>\n      <td>Bismuth subgallate</td>\n      <td>C7H5BiO6</td>\n      <td>394.0910</td>\n    </tr>\n    <tr>\n      <th>26</th>\n      <td>1501111</td>\n      <td>PROTOPORPHYRIN IX</td>\n      <td>C34H34N4O4</td>\n      <td>562.67448</td>\n      <td>PROTOPORPHYRIN IX</td>\n      <td>DB02949</td>\n      <td>2-Acetyl-Protoporphyrin Ix</td>\n      <td>C34H34FeN4O5</td>\n      <td>634.5030</td>\n    </tr>\n    <tr>\n      <th>32</th>\n      <td>1501173</td>\n      <td>ACETANILIDE</td>\n      <td>C8H9NO</td>\n      <td>135.16703</td>\n      <td>ACETANILIDE</td>\n      <td>DB01297</td>\n      <td>Practolol</td>\n      <td>C14H22N2O3</td>\n      <td>266.3361</td>\n    </tr>\n    <tr>\n      <th>55</th>\n      <td>1506163</td>\n      <td>SELENOMETHIONINE</td>\n      <td>C5H11NO2Se</td>\n      <td>196.10892</td>\n      <td>SELENOMETHIONINE</td>\n      <td>DB09400</td>\n      <td>Selenomethionine Se-75</td>\n      <td>C5H11NO2Se</td>\n      <td>192.0710</td>\n    </tr>\n    <tr>\n      <th>84</th>\n      <td>1503921</td>\n      <td>CYPROTERONE</td>\n      <td>C22H27ClO3</td>\n      <td>374.91169</td>\n      <td>CYPROTERONE</td>\n      <td>DB04839</td>\n      <td>Cyproterone acetate</td>\n      <td>C24H29ClO4</td>\n      <td>416.9380</td>\n    </tr>\n    <tr>\n      <th>85</th>\n      <td>1503941</td>\n      <td>THIOCTIC ACID</td>\n      <td>C8H14O2S2</td>\n      <td>206.32758</td>\n      <td>THIOCTIC ACID</td>\n      <td>DB06253</td>\n      <td>Thioctic acid tromethamine</td>\n      <td>C12H25NO5S2</td>\n      <td>327.4500</td>\n    </tr>\n    <tr>\n      <th>100</th>\n      <td>1502248</td>\n      <td>GLUTATHIONE</td>\n      <td>C10H17N3O6S</td>\n      <td>307.32749</td>\n      <td>GLUTATHIONE</td>\n      <td>DB03310</td>\n      <td>Glutathione disulfide</td>\n      <td>C20H32N6O12S2</td>\n      <td>612.6310</td>\n    </tr>\n    <tr>\n      <th>131</th>\n      <td>1701028</td>\n      <td>CORTISONE</td>\n      <td>C21H28O5</td>\n      <td>360.45431</td>\n      <td>CORTISONE</td>\n      <td>DB01380</td>\n      <td>Cortisone acetate</td>\n      <td>C23H30O6</td>\n      <td>402.4807</td>\n    </tr>\n    <tr>\n      <th>138</th>\n      <td>1503973</td>\n      <td>2-THIOURACIL</td>\n      <td>C4H4N2OS</td>\n      <td>128.15328</td>\n      <td>2-THIOURACIL</td>\n      <td>DB00550</td>\n      <td>Propylthiouracil</td>\n      <td>C7H10N2OS</td>\n      <td>170.2320</td>\n    </tr>\n  </tbody>\n</table>\n</div>"
     },
     "metadata": {},
     "execution_count": 13
    }
   ],
   "source": [
    "# mismatched names with different weights\n",
    "name_mismatch_df[(name_mismatch_df[\"idc_moecularl weight\"] - name_mismatch_df[\"drugbank.weight.average\"]).abs() > 1.0]"
   ]
  },
  {
   "cell_type": "code",
   "execution_count": null,
   "metadata": {},
   "outputs": [],
   "source": []
  }
 ]
}